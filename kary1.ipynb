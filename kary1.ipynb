{
 "cells": [
  {
   "cell_type": "markdown",
   "metadata": {},
   "source": [
    "## Operador ternario\n",
    "variable = valor_retornado_verdadero if (condicion) else valor_retornado_falso\n",
    "\n",
    "### Recordar que se puede anidar operaciones ternarios\n",
    "variable = valor_retornado_verdadero if (condicion) else ( valor_retornado_verdadero_anidado if (condicion) else valor_retornado_falso_anidado )\n",
    "\n",
    "#### Se puede hacer esto varias veces. Tener cuidado de no perderse con los parentesis\n"
   ]
  },
  {
   "cell_type": "code",
   "execution_count": 1,
   "metadata": {},
   "outputs": [],
   "source": [
    "#\n",
    "# Operador ternario en una sola linea: \n",
    "#\n",
    "momento = \"tarde\"\n",
    "variable1 = \"Buenos dias\" if momento == \"mañana\" else ( \"Buenas tardes\" if momento == \"tarde\" else (\"Buenas noches\" if momento == \"noche\" else None) )"
   ]
  },
  {
   "cell_type": "code",
   "execution_count": 2,
   "metadata": {},
   "outputs": [],
   "source": [
    "#\n",
    "# Operador ternario como funcion:\n",
    "#\n",
    "def momento_del_dia(momento):\n",
    "    if(momento == \"mañana\"):\n",
    "        return \"Buenos dias\"\n",
    "    elif (momento == \"tarde\"):\n",
    "        return \"Buenas tardes\"\n",
    "    elif(momento == \"noche\"):\n",
    "        return \"Buenas noches\"\n",
    "    else:\n",
    "        return None\n",
    "    \n",
    "variable2 = momento_del_dia(\"tarde\")"
   ]
  },
  {
   "cell_type": "code",
   "execution_count": 3,
   "metadata": {},
   "outputs": [
    {
     "name": "stdout",
     "output_type": "stream",
     "text": [
      "Variable 1= Buenas tardes\n",
      "Variable 2= Buenas tardes\n"
     ]
    }
   ],
   "source": [
    "#\n",
    "# Mostramos hambos valores y vemos que obtenemos el mismo resultado\n",
    "#\n",
    "print(f\"Variable 1= {variable1}\")\n",
    "print(f\"Variable 2= {variable2}\")"
   ]
  },
  {
   "cell_type": "markdown",
   "metadata": {},
   "source": [
    "### Como vemos obtenemos el mismo resultados con hambas maneras, la idea es demostrar que ambas maneras son validas y funcionan"
   ]
  }
 ],
 "metadata": {
  "kernelspec": {
   "display_name": "Python 3",
   "language": "python",
   "name": "python3"
  },
  "language_info": {
   "codemirror_mode": {
    "name": "ipython",
    "version": 3
   },
   "file_extension": ".py",
   "mimetype": "text/x-python",
   "name": "python",
   "nbconvert_exporter": "python",
   "pygments_lexer": "ipython3",
   "version": "3.12.4"
  }
 },
 "nbformat": 4,
 "nbformat_minor": 2
}
